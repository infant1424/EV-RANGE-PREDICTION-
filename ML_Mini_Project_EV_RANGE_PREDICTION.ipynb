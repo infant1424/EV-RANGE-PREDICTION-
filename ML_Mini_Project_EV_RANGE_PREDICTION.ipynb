{
  "nbformat": 4,
  "nbformat_minor": 0,
  "metadata": {
    "colab": {
      "provenance": []
    },
    "kernelspec": {
      "name": "python3",
      "display_name": "Python 3"
    },
    "language_info": {
      "name": "python"
    }
  },
  "cells": [
    {
      "cell_type": "code",
      "execution_count": 3,
      "metadata": {
        "id": "_-7Ffi_GDjVN"
      },
      "outputs": [],
      "source": [
        "import numpy as np\n",
        "import pandas as pd\n",
        "import matplotlib.pyplot as plt\n",
        "from sklearn.model_selection import train_test_split\n",
        "from sklearn.linear_model import LinearRegression\n",
        "from sklearn.metrics import mean_squared_error"
      ]
    },
    {
      "cell_type": "code",
      "source": [
        "np.random.seed(0)\n",
        "data = {\n",
        "    'Battery Capacity (kWh)': np.random.uniform(30, 80, 100),\n",
        "    'Vehicle Weight (kg)': np.random.uniform(1000, 2500, 100),\n",
        "    'Range (km)': 2.5 * np.random.uniform(30, 80, 100) + np.random.randn(100) * 10\n",
        "       }\n",
        "df = pd.DataFrame(data)"
      ],
      "metadata": {
        "id": "UKJWuIlOtFjg"
      },
      "execution_count": 4,
      "outputs": []
    },
    {
      "cell_type": "code",
      "source": [
        "X = df[['Battery Capacity (kWh)', 'Vehicle Weight (kg)']]\n",
        "y = df['Range (km)']\n",
        "print(X,y)"
      ],
      "metadata": {
        "colab": {
          "base_uri": "https://localhost:8080/"
        },
        "id": "-SWmqukEs5VN",
        "outputId": "7ebb2c7d-581d-4af5-c694-1056e38c277a"
      },
      "execution_count": 5,
      "outputs": [
        {
          "output_type": "stream",
          "name": "stdout",
          "text": [
            "    Battery Capacity (kWh)  Vehicle Weight (kg)\n",
            "0                57.440675          2016.724805\n",
            "1                65.759468          1405.011960\n",
            "2                60.138169          2102.791033\n",
            "3                57.244159          2443.282818\n",
            "4                51.182740          1373.129715\n",
            "..                     ...                  ...\n",
            "95               39.159568          1735.688213\n",
            "96               59.325647          1341.121942\n",
            "97               31.005377          1381.534723\n",
            "98               71.447001          1087.043740\n",
            "99               30.234774          1651.624938\n",
            "\n",
            "[100 rows x 2 columns] 0     115.539551\n",
            "1     164.364746\n",
            "2     116.245819\n",
            "3      95.071242\n",
            "4      63.844232\n",
            "         ...    \n",
            "95     94.909699\n",
            "96     89.975724\n",
            "97    173.864789\n",
            "98    185.041384\n",
            "99    191.981410\n",
            "Name: Range (km), Length: 100, dtype: float64\n"
          ]
        }
      ]
    },
    {
      "cell_type": "code",
      "source": [
        "X_train, X_test, y_train, y_test = train_test_split(X, y, test_size=0.2, random_state=42)"
      ],
      "metadata": {
        "id": "80giYuqZtRWH"
      },
      "execution_count": 6,
      "outputs": []
    },
    {
      "cell_type": "code",
      "source": [
        "print(X_train)"
      ],
      "metadata": {
        "colab": {
          "base_uri": "https://localhost:8080/"
        },
        "id": "qacaTEcetYNa",
        "outputId": "7f267aca-477f-4f7f-c2f0-26ae8df71080"
      },
      "execution_count": 7,
      "outputs": [
        {
          "output_type": "stream",
          "name": "stdout",
          "text": [
            "    Battery Capacity (kWh)  Vehicle Weight (kg)\n",
            "55               38.065476          2272.012344\n",
            "88               58.797325          2095.183044\n",
            "26               37.167664          1028.789797\n",
            "42               64.881560          1653.797388\n",
            "69               34.804920          1257.444516\n",
            "..                     ...                  ...\n",
            "60               37.948479          2046.143160\n",
            "71               53.432560          1081.506983\n",
            "14               33.551803          2220.696730\n",
            "92               36.589893          1279.289509\n",
            "51               51.930076          2302.189086\n",
            "\n",
            "[80 rows x 2 columns]\n"
          ]
        }
      ]
    },
    {
      "cell_type": "code",
      "source": [
        "print(X_test)"
      ],
      "metadata": {
        "colab": {
          "base_uri": "https://localhost:8080/"
        },
        "id": "S1-6Ubi7tiyR",
        "outputId": "ada025d1-6634-4a16-bebd-aa13ba87bd7f"
      },
      "execution_count": 8,
      "outputs": [
        {
          "output_type": "stream",
          "name": "stdout",
          "text": [
            "    Battery Capacity (kWh)  Vehicle Weight (kg)\n",
            "83               64.623606          1356.839232\n",
            "53               35.102241          1923.339346\n",
            "70               78.822973          1781.554909\n",
            "45               63.531893          2055.832875\n",
            "44               63.338336          2209.290984\n",
            "39               64.091015          1647.127653\n",
            "22               53.073968          2434.125452\n",
            "80               45.899159          1247.041235\n",
            "10               69.586252          1670.688068\n",
            "0                57.440675          2016.724805\n",
            "18               68.907838          2322.603043\n",
            "30               43.227781          1927.023143\n",
            "73               60.242276          1027.782692\n",
            "33               58.421697          1447.423489\n",
            "90               45.928448          1597.331593\n",
            "4                51.182740          1373.129715\n",
            "76               44.140348          1518.027521\n",
            "77               36.009828          2392.121940\n",
            "12               58.402228          2049.218913\n",
            "31               68.711684          1643.153051\n"
          ]
        }
      ]
    },
    {
      "cell_type": "code",
      "source": [
        "print(y_test)"
      ],
      "metadata": {
        "colab": {
          "base_uri": "https://localhost:8080/"
        },
        "id": "lCAA1HG7tz8S",
        "outputId": "ad0c5518-74f2-4979-f98c-4f45f69b629f"
      },
      "execution_count": 9,
      "outputs": [
        {
          "output_type": "stream",
          "name": "stdout",
          "text": [
            "83     75.058873\n",
            "53    189.227881\n",
            "70    198.164142\n",
            "45     96.781535\n",
            "44    168.597924\n",
            "39    150.235829\n",
            "22    101.059112\n",
            "80     98.284951\n",
            "10    213.737214\n",
            "0     115.539551\n",
            "18    145.449510\n",
            "30     99.486732\n",
            "73    198.896828\n",
            "33     84.311634\n",
            "90    120.651361\n",
            "4      63.844232\n",
            "76    191.490573\n",
            "77    168.098541\n",
            "12    162.147363\n",
            "31     87.830358\n",
            "Name: Range (km), dtype: float64\n"
          ]
        }
      ]
    },
    {
      "cell_type": "code",
      "source": [
        "print(y_train)"
      ],
      "metadata": {
        "colab": {
          "base_uri": "https://localhost:8080/"
        },
        "id": "dKHstnrit4gZ",
        "outputId": "4f29a8e7-9884-45f5-f667-9df5643de3b6"
      },
      "execution_count": 10,
      "outputs": [
        {
          "output_type": "stream",
          "name": "stdout",
          "text": [
            "55     95.629532\n",
            "88    133.325123\n",
            "26    162.355566\n",
            "42    136.563527\n",
            "69    147.072363\n",
            "         ...    \n",
            "60     94.651064\n",
            "71    190.392692\n",
            "14     71.207005\n",
            "92    177.148453\n",
            "51    191.392954\n",
            "Name: Range (km), Length: 80, dtype: float64\n"
          ]
        }
      ]
    },
    {
      "cell_type": "code",
      "source": [
        "model = LinearRegression()\n"
      ],
      "metadata": {
        "id": "TW5h2pDuugtY"
      },
      "execution_count": 11,
      "outputs": []
    },
    {
      "cell_type": "code",
      "source": [
        "model.fit(X_train, y_train)"
      ],
      "metadata": {
        "colab": {
          "base_uri": "https://localhost:8080/",
          "height": 74
        },
        "id": "Ji9Ch-_AumAB",
        "outputId": "6a128cdd-31ef-4d91-fe68-a0931475253e"
      },
      "execution_count": 12,
      "outputs": [
        {
          "output_type": "execute_result",
          "data": {
            "text/plain": [
              "LinearRegression()"
            ],
            "text/html": [
              "<style>#sk-container-id-1 {color: black;background-color: white;}#sk-container-id-1 pre{padding: 0;}#sk-container-id-1 div.sk-toggleable {background-color: white;}#sk-container-id-1 label.sk-toggleable__label {cursor: pointer;display: block;width: 100%;margin-bottom: 0;padding: 0.3em;box-sizing: border-box;text-align: center;}#sk-container-id-1 label.sk-toggleable__label-arrow:before {content: \"▸\";float: left;margin-right: 0.25em;color: #696969;}#sk-container-id-1 label.sk-toggleable__label-arrow:hover:before {color: black;}#sk-container-id-1 div.sk-estimator:hover label.sk-toggleable__label-arrow:before {color: black;}#sk-container-id-1 div.sk-toggleable__content {max-height: 0;max-width: 0;overflow: hidden;text-align: left;background-color: #f0f8ff;}#sk-container-id-1 div.sk-toggleable__content pre {margin: 0.2em;color: black;border-radius: 0.25em;background-color: #f0f8ff;}#sk-container-id-1 input.sk-toggleable__control:checked~div.sk-toggleable__content {max-height: 200px;max-width: 100%;overflow: auto;}#sk-container-id-1 input.sk-toggleable__control:checked~label.sk-toggleable__label-arrow:before {content: \"▾\";}#sk-container-id-1 div.sk-estimator input.sk-toggleable__control:checked~label.sk-toggleable__label {background-color: #d4ebff;}#sk-container-id-1 div.sk-label input.sk-toggleable__control:checked~label.sk-toggleable__label {background-color: #d4ebff;}#sk-container-id-1 input.sk-hidden--visually {border: 0;clip: rect(1px 1px 1px 1px);clip: rect(1px, 1px, 1px, 1px);height: 1px;margin: -1px;overflow: hidden;padding: 0;position: absolute;width: 1px;}#sk-container-id-1 div.sk-estimator {font-family: monospace;background-color: #f0f8ff;border: 1px dotted black;border-radius: 0.25em;box-sizing: border-box;margin-bottom: 0.5em;}#sk-container-id-1 div.sk-estimator:hover {background-color: #d4ebff;}#sk-container-id-1 div.sk-parallel-item::after {content: \"\";width: 100%;border-bottom: 1px solid gray;flex-grow: 1;}#sk-container-id-1 div.sk-label:hover label.sk-toggleable__label {background-color: #d4ebff;}#sk-container-id-1 div.sk-serial::before {content: \"\";position: absolute;border-left: 1px solid gray;box-sizing: border-box;top: 0;bottom: 0;left: 50%;z-index: 0;}#sk-container-id-1 div.sk-serial {display: flex;flex-direction: column;align-items: center;background-color: white;padding-right: 0.2em;padding-left: 0.2em;position: relative;}#sk-container-id-1 div.sk-item {position: relative;z-index: 1;}#sk-container-id-1 div.sk-parallel {display: flex;align-items: stretch;justify-content: center;background-color: white;position: relative;}#sk-container-id-1 div.sk-item::before, #sk-container-id-1 div.sk-parallel-item::before {content: \"\";position: absolute;border-left: 1px solid gray;box-sizing: border-box;top: 0;bottom: 0;left: 50%;z-index: -1;}#sk-container-id-1 div.sk-parallel-item {display: flex;flex-direction: column;z-index: 1;position: relative;background-color: white;}#sk-container-id-1 div.sk-parallel-item:first-child::after {align-self: flex-end;width: 50%;}#sk-container-id-1 div.sk-parallel-item:last-child::after {align-self: flex-start;width: 50%;}#sk-container-id-1 div.sk-parallel-item:only-child::after {width: 0;}#sk-container-id-1 div.sk-dashed-wrapped {border: 1px dashed gray;margin: 0 0.4em 0.5em 0.4em;box-sizing: border-box;padding-bottom: 0.4em;background-color: white;}#sk-container-id-1 div.sk-label label {font-family: monospace;font-weight: bold;display: inline-block;line-height: 1.2em;}#sk-container-id-1 div.sk-label-container {text-align: center;}#sk-container-id-1 div.sk-container {/* jupyter's `normalize.less` sets `[hidden] { display: none; }` but bootstrap.min.css set `[hidden] { display: none !important; }` so we also need the `!important` here to be able to override the default hidden behavior on the sphinx rendered scikit-learn.org. See: https://github.com/scikit-learn/scikit-learn/issues/21755 */display: inline-block !important;position: relative;}#sk-container-id-1 div.sk-text-repr-fallback {display: none;}</style><div id=\"sk-container-id-1\" class=\"sk-top-container\"><div class=\"sk-text-repr-fallback\"><pre>LinearRegression()</pre><b>In a Jupyter environment, please rerun this cell to show the HTML representation or trust the notebook. <br />On GitHub, the HTML representation is unable to render, please try loading this page with nbviewer.org.</b></div><div class=\"sk-container\" hidden><div class=\"sk-item\"><div class=\"sk-estimator sk-toggleable\"><input class=\"sk-toggleable__control sk-hidden--visually\" id=\"sk-estimator-id-1\" type=\"checkbox\" checked><label for=\"sk-estimator-id-1\" class=\"sk-toggleable__label sk-toggleable__label-arrow\">LinearRegression</label><div class=\"sk-toggleable__content\"><pre>LinearRegression()</pre></div></div></div></div></div>"
            ]
          },
          "metadata": {},
          "execution_count": 12
        }
      ]
    },
    {
      "cell_type": "code",
      "source": [
        "y_pred = model.predict(X_test)"
      ],
      "metadata": {
        "id": "zEcgmwePurdf"
      },
      "execution_count": 13,
      "outputs": []
    },
    {
      "cell_type": "code",
      "source": [
        "mse = mean_squared_error(y_test, y_pred)\n",
        "print(f\"Mean Squared Error: {mse}\")"
      ],
      "metadata": {
        "colab": {
          "base_uri": "https://localhost:8080/"
        },
        "id": "w0mHq2a2uwjK",
        "outputId": "e39bfdaa-fec6-4e7c-fcf3-7c8bc73a72d4"
      },
      "execution_count": 14,
      "outputs": [
        {
          "output_type": "stream",
          "name": "stdout",
          "text": [
            "Mean Squared Error: 2321.080846154448\n"
          ]
        }
      ]
    },
    {
      "cell_type": "code",
      "source": [
        "print(\"Coefficients:\", model.coef_)\n",
        "print(\"Intercept:\", model.intercept_)"
      ],
      "metadata": {
        "colab": {
          "base_uri": "https://localhost:8080/"
        },
        "id": "u8pOSj_zu1ba",
        "outputId": "a6e9b4ab-6f9c-4d1f-8dfa-c8886988018e"
      },
      "execution_count": 15,
      "outputs": [
        {
          "output_type": "stream",
          "name": "stdout",
          "text": [
            "Coefficients: [-0.31313777 -0.02043388]\n",
            "Intercept: 190.85659115252977\n"
          ]
        }
      ]
    },
    {
      "cell_type": "code",
      "source": [
        "new_ev = np.array([[60, 1500]])  # New EV with 60 kWh battery and 1500 kg weight\n",
        "predicted_range = model.predict(new_ev)\n",
        "print(f\"Predicted Range for the New EV: {predicted_range[0]} km\")"
      ],
      "metadata": {
        "colab": {
          "base_uri": "https://localhost:8080/"
        },
        "id": "4POETRoguYZY",
        "outputId": "947d140c-5d7b-4858-9c13-6eabfbbac85b"
      },
      "execution_count": 16,
      "outputs": [
        {
          "output_type": "stream",
          "name": "stdout",
          "text": [
            "Predicted Range for the New EV: 141.41749930854616 km\n"
          ]
        },
        {
          "output_type": "stream",
          "name": "stderr",
          "text": [
            "/usr/local/lib/python3.10/dist-packages/sklearn/base.py:439: UserWarning: X does not have valid feature names, but LinearRegression was fitted with feature names\n",
            "  warnings.warn(\n"
          ]
        }
      ]
    },
    {
      "cell_type": "code",
      "source": [
        "plt.scatter(X_test['Battery Capacity (kWh)'], y_test, color='black', label='Actual')\n",
        "plt.scatter(X_test['Battery Capacity (kWh)'], y_pred, color='red', marker='x', label='Predicted')\n",
        "plt.title('EV Range Prediction')\n",
        "plt.xlabel('Battery Capacity (kWh)')\n",
        "plt.ylabel('Range (km)')\n",
        "plt.legend()\n",
        "plt.show()"
      ],
      "metadata": {
        "colab": {
          "base_uri": "https://localhost:8080/",
          "height": 472
        },
        "id": "H3fx5LMYu8aA",
        "outputId": "118d6d44-f08c-494d-999a-1f28d4c0fd5b"
      },
      "execution_count": 17,
      "outputs": [
        {
          "output_type": "display_data",
          "data": {
            "text/plain": [
              "<Figure size 640x480 with 1 Axes>"
            ],
            "image/png": "[encoded data removed]"
          },
          "metadata": {}
        }
      ]
    },
    {
      "cell_type": "markdown",
      "source": [
        "This example uses two features ('Battery Capacity' and 'Vehicle Weight') to predict the 'Range' of the electric vehicle. You can modify the features and target variable based on your specific dataset."
      ],
      "metadata": {
        "id": "4Gnwfwr4vNz6"
      }
    },
    {
      "cell_type": "markdown",
      "source": [
        "**ML ALGORITHMS MODEL**"
      ],
      "metadata": {
        "id": "eVrz6Igo21fc"
      }
    },
    {
      "cell_type": "markdown",
      "source": [
        "**MSE**"
      ],
      "metadata": {
        "id": "7iWfrStzyRFK"
      }
    },
    {
      "cell_type": "code",
      "source": [
        "from sklearn.tree import DecisionTreeRegressor\n",
        "from sklearn.metrics import mean_squared_error\n",
        "\n",
        "# Define and train the Decision Tree model\n",
        "dt_model = DecisionTreeRegressor(random_state=42)\n",
        "dt_model.fit(X_train, y_train)\n",
        "\n",
        "# Make predictions\n",
        "dt_predictions = dt_model.predict(X_test)\n",
        "\n",
        "# Evaluate the model\n",
        "dt_mse = mean_squared_error(y_test, dt_predictions)\n",
        "print(f\"Decision Tree Mean Squared Error: {dt_mse}\")"
      ],
      "metadata": {
        "colab": {
          "base_uri": "https://localhost:8080/"
        },
        "id": "nbLOwPoe20ML",
        "outputId": "1005a57f-dd78-42fb-b21a-bbea1c1d7efb"
      },
      "execution_count": 18,
      "outputs": [
        {
          "output_type": "stream",
          "name": "stdout",
          "text": [
            "Decision Tree Mean Squared Error: 3062.3942085130248\n"
          ]
        }
      ]
    },
    {
      "cell_type": "code",
      "source": [
        "from sklearn.svm import SVR\n",
        "from sklearn.preprocessing import StandardScaler\n",
        "from sklearn.pipeline import make_pipeline\n",
        "\n",
        "# Define and train the SVM model\n",
        "svm_model = make_pipeline(StandardScaler(), SVR())\n",
        "svm_model.fit(X_train, y_train)\n",
        "\n",
        "# Make predictions\n",
        "svm_predictions = svm_model.predict(X_test)\n",
        "\n",
        "# Evaluate the model\n",
        "svm_mse = mean_squared_error(y_test, svm_predictions)\n",
        "print(f\"SVM Mean Squared Error: {svm_mse}\")"
      ],
      "metadata": {
        "colab": {
          "base_uri": "https://localhost:8080/"
        },
        "id": "SN_tzwt03IF0",
        "outputId": "a4e62f28-c653-4df5-fc9a-6600e15e7af7"
      },
      "execution_count": 19,
      "outputs": [
        {
          "output_type": "stream",
          "name": "stdout",
          "text": [
            "SVM Mean Squared Error: 2193.365822771755\n"
          ]
        }
      ]
    },
    {
      "cell_type": "code",
      "source": [
        "from sklearn.neighbors import KNeighborsRegressor\n",
        "\n",
        "# Define and train the kNN model\n",
        "knn_model = KNeighborsRegressor(n_neighbors=5)\n",
        "knn_model.fit(X_train, y_train)\n",
        "\n",
        "# Make predictions\n",
        "knn_predictions = knn_model.predict(X_test)\n",
        "\n",
        "# Evaluate the model\n",
        "knn_mse = mean_squared_error(y_test, knn_predictions)\n",
        "print(f\"kNN Mean Squared Error: {knn_mse}\")"
      ],
      "metadata": {
        "colab": {
          "base_uri": "https://localhost:8080/"
        },
        "id": "3SoBWXyL3O8E",
        "outputId": "df92c5a0-4400-403b-9ca6-2d4179c78483"
      },
      "execution_count": 20,
      "outputs": [
        {
          "output_type": "stream",
          "name": "stdout",
          "text": [
            "kNN Mean Squared Error: 2390.867632907627\n"
          ]
        }
      ]
    },
    {
      "cell_type": "code",
      "source": [
        "# Importing necessary libraries\n",
        "import numpy as np\n",
        "from sklearn.model_selection import train_test_split\n",
        "from sklearn.ensemble import RandomForestRegressor\n",
        "from sklearn.metrics import mean_squared_error\n",
        "\n",
        "# Creating and training the Random Forest regressor\n",
        "rf_regressor = RandomForestRegressor(n_estimators=100, random_state=42)  # You can adjust the number of estimators as needed\n",
        "rf_regressor.fit(X_train, y_train)\n",
        "\n",
        "# Predicting on the testing set\n",
        "y_pred = rf_regressor.predict(X_test)\n",
        "\n",
        "# Calculating Mean Squared Error (MSE)\n",
        "mse = mean_squared_error(y_test, y_pred)\n",
        "print(\"Mean Squared Error (MSE):\", mse)"
      ],
      "metadata": {
        "colab": {
          "base_uri": "https://localhost:8080/"
        },
        "id": "T8u7xXHSyyP3",
        "outputId": "20ca90db-a3eb-4763-9469-81a26fd83ef6"
      },
      "execution_count": 21,
      "outputs": [
        {
          "output_type": "stream",
          "name": "stdout",
          "text": [
            "Mean Squared Error (MSE): 2642.8313001251718\n"
          ]
        }
      ]
    },
    {
      "cell_type": "markdown",
      "source": [
        "**RMSE**"
      ],
      "metadata": {
        "id": "tULaAKglyIFJ"
      }
    },
    {
      "cell_type": "code",
      "source": [
        "# Importing necessary libraries\n",
        "import numpy as np\n",
        "from sklearn.model_selection import train_test_split\n",
        "from sklearn.svm import SVR\n",
        "from sklearn.metrics import mean_squared_error\n",
        "\n",
        "# Creating and training the SVM regressor\n",
        "svm_regressor = SVR(kernel='linear')\n",
        "svm_regressor.fit(X_train, y_train)\n",
        "\n",
        "# Predicting on the testing set\n",
        "y_pred = svm_regressor.predict(X_test)\n",
        "\n",
        "# Calculating Root Mean Squared Error (RMSE)\n",
        "rmse = np.sqrt(mean_squared_error(y_test, y_pred))\n",
        "print(\"Root Mean Squared Error (RMSE):\", rmse)\n"
      ],
      "metadata": {
        "colab": {
          "base_uri": "https://localhost:8080/"
        },
        "id": "xmU7tRfFxdG9",
        "outputId": "4e4da100-6cc0-448c-cff8-17ad4fb58b54"
      },
      "execution_count": 22,
      "outputs": [
        {
          "output_type": "stream",
          "name": "stdout",
          "text": [
            "Root Mean Squared Error (RMSE): 48.791942948122205\n"
          ]
        }
      ]
    },
    {
      "cell_type": "code",
      "source": [
        "# Importing necessary libraries\n",
        "import numpy as np\n",
        "from sklearn.model_selection import train_test_split\n",
        "from sklearn.tree import DecisionTreeRegressor\n",
        "from sklearn.metrics import mean_squared_error\n",
        "\n",
        "# Creating and training the Decision Tree regressor\n",
        "tree_regressor = DecisionTreeRegressor()\n",
        "tree_regressor.fit(X_train, y_train)\n",
        "\n",
        "# Predicting on the testing set\n",
        "y_pred = tree_regressor.predict(X_test)\n",
        "\n",
        "# Calculating Root Mean Squared Error (RMSE)\n",
        "rmse = np.sqrt(mean_squared_error(y_test, y_pred))\n",
        "print(\"Root Mean Squared Error (RMSE):\", rmse)"
      ],
      "metadata": {
        "colab": {
          "base_uri": "https://localhost:8080/"
        },
        "id": "_vN2lLa5yA_3",
        "outputId": "685fa8e1-b224-45ec-8a65-88e96e7b02c9"
      },
      "execution_count": 23,
      "outputs": [
        {
          "output_type": "stream",
          "name": "stdout",
          "text": [
            "Root Mean Squared Error (RMSE): 57.97430749886357\n"
          ]
        }
      ]
    },
    {
      "cell_type": "code",
      "source": [
        "# Importing necessary libraries\n",
        "import numpy as np\n",
        "from sklearn.model_selection import train_test_split\n",
        "from sklearn.neighbors import KNeighborsRegressor\n",
        "from sklearn.metrics import mean_squared_error\n",
        "\n",
        "# Creating and training the KNN regressor\n",
        "knn_regressor = KNeighborsRegressor(n_neighbors=5)  # You can adjust the number of neighbors (K) as needed\n",
        "knn_regressor.fit(X_train, y_train)\n",
        "\n",
        "# Predicting on the testing set\n",
        "y_pred = knn_regressor.predict(X_test)\n",
        "\n",
        "# Calculating Root Mean Squared Error (RMSE)\n",
        "rmse = np.sqrt(mean_squared_error(y_test, y_pred))\n",
        "print(\"Root Mean Squared Error (RMSE):\", rmse)\n"
      ],
      "metadata": {
        "colab": {
          "base_uri": "https://localhost:8080/"
        },
        "id": "sGEgsaavyGBd",
        "outputId": "db406df3-897d-4750-ca5c-8804d3be3aee"
      },
      "execution_count": 24,
      "outputs": [
        {
          "output_type": "stream",
          "name": "stdout",
          "text": [
            "Root Mean Squared Error (RMSE): 48.89649918867021\n"
          ]
        }
      ]
    },
    {
      "cell_type": "code",
      "source": [
        "# Importing necessary libraries\n",
        "import numpy as np\n",
        "from sklearn.model_selection import train_test_split\n",
        "from sklearn.ensemble import RandomForestRegressor\n",
        "from sklearn.metrics import mean_squared_error\n",
        "\n",
        "# Creating and training the Random Forest regressor\n",
        "rf_regressor = RandomForestRegressor(n_estimators=100, random_state=42)  # You can adjust the number of estimators as needed\n",
        "rf_regressor.fit(X_train, y_train)\n",
        "\n",
        "# Predicting on the testing set\n",
        "y_pred = rf_regressor.predict(X_test)\n",
        "\n",
        "# Calculating Root Mean Squared Error (RMSE)\n",
        "rmse = np.sqrt(mse)\n",
        "print(\"Root Mean Squared Error (RMSE):\", rmse)"
      ],
      "metadata": {
        "colab": {
          "base_uri": "https://localhost:8080/"
        },
        "id": "mdUlu7k6zCjI",
        "outputId": "48390dc5-c59a-483f-aa24-f31904556aac"
      },
      "execution_count": 25,
      "outputs": [
        {
          "output_type": "stream",
          "name": "stdout",
          "text": [
            "Root Mean Squared Error (RMSE): 51.40847498346135\n"
          ]
        }
      ]
    }
  ]
}